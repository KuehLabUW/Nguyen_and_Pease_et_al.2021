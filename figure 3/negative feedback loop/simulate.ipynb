{
 "cells": [
  {
   "cell_type": "code",
   "execution_count": 3,
   "metadata": {
    "inputHidden": false,
    "outputHidden": false
   },
   "outputs": [],
   "source": [
    "#!/usr/bin/python\n",
    "# Modified 11/29/2019 by HYK\n",
    "# Incorporate binomial partitioning, DONE!\n",
    "# Cumulative addition of time over multiple rounds of simulation, DONE!\n",
    "# activation cascade with three components\n",
    "# Generalized functions for simulating arbitrary reaction network topologies\n",
    "# Simulation cell number distributions as well, for multiple runs\n",
    "# Also, write a MATLAB script to rapidly generate plots from the simulated data\n",
    "\n",
    "\"\"\"\n",
    "Created on Tue Dec 13 20:08:54 2016\n",
    "@author: Sam Nguyen\n",
    "\"\"\"\n",
    "import roadrunner\n",
    "import numpy \n",
    "from numpy import random as rand\n",
    "import math\n",
    "from scipy import asarray as ar,exp\n",
    "from multiprocessing import Pool\n",
    "import csv\n",
    "import random\n",
    "import sys\n",
    "roadrunner.Config.setValue(roadrunner.Config.MAX_OUTPUT_ROWS,10000)\n",
    "\n",
    "# Tellurium loader\n",
    "def loada(sbstr):\n",
    "    import antimony as sb\n",
    "    r = sb.loadAntimonyString(sbstr)\n",
    "    if r < 0:\n",
    "        raise RuntimeError('Failed to load Antimony model: {}'.format(sb.getLastError()))\n",
    "    return roadrunner.RoadRunner(sb.getSBMLString(sb.getModuleNames()[-1]))\n",
    "\n",
    "# Tellurium simulation function\n",
    "def doSimulation(tc,nc):\n",
    "    r = loada(\"\"\"\n",
    "    # define cell cycling parameters\n",
    "    TCycle = 10                                    \n",
    "    V := (time/TCycle + 1)\n",
    "    \n",
    "    #define ode    \n",
    "    R1: => Px ; (kX*V)*(S/V)*(1-Px)      # promoter activation\n",
    "    R2: Px => ; lX*(Y/V)/(Y/V+KY/V)*Px    # promoter inactivation of X\n",
    "    R3: => X ; (alphaX*V)*Px           # synthesis of X, rate increases with \n",
    "    R4: X => ; X*deltaX                # degradation of X\n",
    "    R5: => Py ; (kY*V)*(S/V)*(1-Py)*(X/V)/(KX/V+X/V)     # activation of pY by X\n",
    "    R6: => Y ; (alphaY*V)*Py\n",
    "    R7: Y => ; Y*deltaY\n",
    "\n",
    "   \n",
    "   #define initial values\n",
    "    S = 1            # the concentration of signal * (normalized units) \n",
    "    Px = 0             # initial promoter state of X in the state (inactive)  \n",
    "    X = 0              # the number of copies of X\n",
    "    Py = 0              # the promoter state of Y\n",
    "    Y = 0              # the number of copies of Y\n",
    "\n",
    "    kX = 0.02\n",
    "    KX = 30\n",
    "    lX = 20\n",
    "    alphaX = 1300          # synthesis rate of X (copies/hr)\n",
    "    deltaX = 1             # degradation rate (1/hr)\n",
    "    kY = 0.02\n",
    "    KY = 30               # silencing rate\n",
    "    alphaY = 1000         # synthesis rate of Y (copies/hr)\n",
    "    deltaY = 1             # degradation rate (1/hr)\n",
    "    \"\"\")\n",
    "    # set parameters of stochastic simulation\n",
    "    r.integrator = 'gillespie'\n",
    "    r.integrator.variable_step_size = False  \n",
    "    r.TCycle = tc # define cell cycle time \n",
    "    \n",
    "    # redefine parameters here, if necessary\n",
    "    #r.K = K\n",
    "    ############################\n",
    "    dt = 0.1;     # time interval for plotting\n",
    "    result=[]\n",
    "    for i in range(0,nc,1):       # for loop over the total number of cell cycles\n",
    "        if i == 0:\n",
    "            SubResult =r.simulate(0,tc,int(tc/dt),['time','V','Px','X','Py','Y']) \n",
    "            for row in SubResult:\n",
    "                result.append(row)\n",
    "        else:\n",
    "            r.X = rand.binomial(r.X, 0.5)   # randomly partition X due to cell division\n",
    "            r.Y = rand.binomial(r.Y, 0.5)   # randomly partition Y due to cell division\n",
    "            SubResult =r.simulate(0,tc,int(tc/dt),['time','V','Px','X','Py','Y'])   # automatic update of activation state?            \n",
    "            for row in SubResult:\n",
    "                row[0]=row[0]+(i*tc)     # update the time vector\n",
    "                result.append(row)\n",
    "    result = ar(result)\n",
    "    return result\n",
    "\n",
    "#Write csv file\n",
    "def writeCSV(filename,result):\n",
    "    with open(filename,'w') as mycvsfile:\n",
    "        thedatawriter=csv.writer(mycvsfile)   \n",
    "        thedatawriter.writerows(result)\n"
   ]
  },
  {
   "cell_type": "code",
   "execution_count": 2,
   "metadata": {
    "inputHidden": false,
    "outputHidden": false
   },
   "outputs": [
    {
     "name": "stdout",
     "output_type": "stream",
     "text": [
      "0\n",
      "1\n",
      "2\n",
      "3\n",
      "4\n",
      "5\n",
      "6\n",
      "7\n",
      "8\n",
      "9\n",
      "10\n",
      "11\n",
      "12\n",
      "13\n",
      "14\n",
      "15\n",
      "16\n",
      "17\n",
      "18\n",
      "19\n"
     ]
    }
   ],
   "source": [
    "for i in range(0,40,1):\n",
    "    print(i)\n",
    "    result = doSimulation(10,40)\n",
    "    writeCSV('data/data_{}.csv'.format(i),result)"
   ]
  },
  {
   "cell_type": "code",
   "execution_count": null,
   "metadata": {
    "inputHidden": false,
    "outputHidden": false
   },
   "outputs": [],
   "source": []
  }
 ],
 "metadata": {
  "kernel_info": {
   "name": "python3"
  },
  "kernelspec": {
   "display_name": "Python 3",
   "language": "python",
   "name": "python3"
  },
  "language_info": {
   "codemirror_mode": {
    "name": "ipython",
    "version": 3
   },
   "file_extension": ".py",
   "mimetype": "text/x-python",
   "name": "python",
   "nbconvert_exporter": "python",
   "pygments_lexer": "ipython3",
   "version": "3.7.4"
  }
 },
 "nbformat": 4,
 "nbformat_minor": 4
}
