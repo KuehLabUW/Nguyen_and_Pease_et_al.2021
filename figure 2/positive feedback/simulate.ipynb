{
 "cells": [
  {
   "cell_type": "code",
   "execution_count": 1,
   "metadata": {
    "inputHidden": false,
    "outputHidden": false
   },
   "outputs": [],
   "source": [
    "#!/usr/bin/python\n",
    "# with positive feedback\n",
    "# Modified 11/29/2019 by HYK\n",
    "# classical gene activation model with positive feedbackj\n",
    "# Incorporate binomial partitioning, DONE!\n",
    "# Cumulative addition of time over multiple rounds of simulation, DONE!\n",
    "\n",
    "# Generalized functions for simulating arbitrary reaction network topologies\n",
    "# Simulation cell number distributions as well, for multiple runs\n",
    "# Also, write a MATLAB script to rapidly generate plots from the simulated data\n",
    "\n",
    "\"\"\"\n",
    "Created on Tue Dec 13 20:08:54 2016\n",
    "@author: Sam Nguyen\n",
    "\"\"\"\n",
    "import roadrunner\n",
    "import numpy \n",
    "from numpy import random as rand\n",
    "import math\n",
    "from scipy import asarray as ar,exp\n",
    "from multiprocessing import Pool\n",
    "import csv\n",
    "import random\n",
    "import sys\n",
    "roadrunner.Config.setValue(roadrunner.Config.MAX_OUTPUT_ROWS,10000)\n",
    "\n",
    "# Tellurium loader\n",
    "def loada(sbstr):\n",
    "    import antimony as sb\n",
    "    r = sb.loadAntimonyString(sbstr)\n",
    "    if r < 0:\n",
    "        raise RuntimeError('Failed to load Antimony model: {}'.format(sb.getLastError()))\n",
    "    return roadrunner.RoadRunner(sb.getSBMLString(sb.getModuleNames()[-1]))\n",
    "\n",
    "# Tellurium simulation function\n",
    "def doSimulation(tc,nc):\n",
    "    r = loada(\"\"\"\n",
    "    # define cell cycling parameters\n",
    "    TCycle = 10                                    \n",
    "    V := (time/TCycle + 1)\n",
    "    \n",
    "    #define ode\n",
    "    # should we include positive feedback additively\n",
    "    R1: => X ; V*(S*alphaX0 + alphaX1*((X/V)^M/(Kx^M+(X/V)^M)))       # synthesis of X, positive feedback\n",
    "    R2: X => ; X*deltaX             # degradation of X\n",
    "    R3: => Y ; (alphaY*V)*(X/V)^N/((X/V)^N+Ky^N)\n",
    "    R4: Y => ; Y*deltaY\n",
    "   \n",
    "   #define initial values\n",
    "    S = 2.0             # the concentration of signal * (normalized units) \n",
    "    X = 0                 # the initial number of copies of X\n",
    "    Y = 0                 # the initial number of copies of Y\n",
    " \n",
    "    alphaX0 = 5         # synthesis rate of X (copies/hr)\n",
    "    alphaX1 = 70\n",
    "    deltaX = 0             # degradation rate (1/hr), assume infinitely stable\n",
    "    alphaY = 10^3          # synthesis rate of Y (copies/hr)\n",
    "    deltaY = 1             # degradation rate (1/hr)\n",
    "    Kx = 100\n",
    "    Ky = 1000              # MM constant for activation of Y by X\n",
    "    M = 15\n",
    "    N = 10                 # Hill coefficient for activation of Y by X\n",
    "    \"\"\")\n",
    "    # set parameters of stochastic simulation\n",
    "    r.integrator = 'gillespie'\n",
    "    r.integrator.variable_step_size = False  \n",
    "    r.TCycle = tc # define cell cycle time \n",
    "    \n",
    "    ############################\n",
    "    dt = 0.1;     # time interval for plotting\n",
    "    result=[]\n",
    "    for i in range(0,nc,1):       # for loop over the total number of cell cycles\n",
    "        if i == 0:\n",
    "            SubResult =r.simulate(0,tc,int(tc/dt),['time','V','X','Y'])\n",
    "            for row in SubResult:\n",
    "                result.append(row)\n",
    "        else:\n",
    "            r.X = rand.binomial(r.X, 0.5)   # randomly partition\n",
    "            r.Y = rand.binomial(r.Y, 0.5)\n",
    "            SubResult =r.simulate(0,tc,int(tc/dt),['time','V','X','Y'])             \n",
    "            for row in SubResult:\n",
    "                row[0]=row[0]+(i*tc)     # update the time vector\n",
    "                result.append(row)\n",
    "    result = ar(result)\n",
    "    return result\n",
    "\n",
    "#Write csv file\n",
    "def writeCSV(filename,result):\n",
    "    with open(filename,'w') as mycvsfile:\n",
    "        thedatawriter=csv.writer(mycvsfile)   \n",
    "        thedatawriter.writerows(result)\n"
   ]
  },
  {
   "cell_type": "code",
   "execution_count": 31,
   "metadata": {
    "inputHidden": false,
    "outputHidden": false
   },
   "outputs": [],
   "source": [
    "for i in range(0,20,1):\n",
    "    result = doSimulation(10,25)\n",
    "    writeCSV('data/data_{}.csv'.format(i),result)\n",
    "\n"
   ]
  },
  {
   "cell_type": "code",
   "execution_count": null,
   "metadata": {
    "inputHidden": false,
    "outputHidden": false
   },
   "outputs": [],
   "source": []
  }
 ],
 "metadata": {
  "kernel_info": {
   "name": "python3"
  },
  "kernelspec": {
   "display_name": "Python 3",
   "language": "python",
   "name": "python3"
  },
  "language_info": {
   "codemirror_mode": {
    "name": "ipython",
    "version": 3
   },
   "file_extension": ".py",
   "mimetype": "text/x-python",
   "name": "python",
   "nbconvert_exporter": "python",
   "pygments_lexer": "ipython3",
   "version": "3.7.4"
  }
 },
 "nbformat": 4,
 "nbformat_minor": 4
}
