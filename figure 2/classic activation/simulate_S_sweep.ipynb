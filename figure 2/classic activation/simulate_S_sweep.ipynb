{
  "cells": [
    {
      "cell_type": "code",
      "source": [
        "#!/usr/bin/python\n",
        "# Modified 11/29/2019 by HYK\n",
        "# classical gene activation model\n",
        "# Incorporate binomial partitioning, DONE!\n",
        "# Cumulative addition of time over multiple rounds of simulation, DONE!\n",
        "\n",
        "# Generalized functions for simulating arbitrary reaction network topologies\n",
        "# Simulation cell number distributions as well, for multiple runs\n",
        "# Also, write a MATLAB script to rapidly generate plots from the simulated data\n",
        "\n",
        "\"\"\"\n",
        "Created on Tue Dec 13 20:08:54 2016\n",
        "@author: Sam Nguyen\n",
        "\"\"\"\n",
        "import roadrunner\n",
        "import numpy \n",
        "from numpy import random as rand\n",
        "from numpy import nonzero as nonzero\n",
        "import math\n",
        "from scipy import asarray as ar,exp\n",
        "from multiprocessing import Pool\n",
        "import csv\n",
        "import random\n",
        "import sys\n",
        "roadrunner.Config.setValue(roadrunner.Config.MAX_OUTPUT_ROWS,10000)\n",
        "\n",
        "# Tellurium loader\n",
        "def loada(sbstr):\n",
        "    import antimony as sb\n",
        "    r = sb.loadAntimonyString(sbstr)\n",
        "    if r < 0:\n",
        "        raise RuntimeError('Failed to load Antimony model: {}'.format(sb.getLastError()))\n",
        "    return roadrunner.RoadRunner(sb.getSBMLString(sb.getModuleNames()[-1]))\n",
        "\n",
        "# Tellurium simulation function\n",
        "def doSimulation(tc,nc,S):\n",
        "    r = loada(\"\"\"\n",
        "    # define cell cycling parameters\n",
        "    TCycle = 10                                    \n",
        "    V := (time/TCycle + 1)\n",
        "    \n",
        "    #define ode    \n",
        "    R1: => X ; S*alphaX*V        # synthesis of X, rate increases with V\n",
        "    R2: X => ; X*deltaX             # degradation of X\n",
        "    R3: => Y ; (alphaY*V)*(X/V)^N/((X/V)^N+K^N)\n",
        "    R4: Y => ; Y*deltaY\n",
        "   \n",
        "   #define initial values\n",
        "    S = 130          # the concentration of signal * (normalized units) \n",
        "    X = 0              # the initial number of copies of X\n",
        "    Y = 0              # the initial number of copies of Y\n",
        " \n",
        "    alphaX = 0.5          # synthesis rate of X (copies/hr)\n",
        "    deltaX = 0             # degradation rate (1/hr), assume infinitely stable\n",
        "    alphaY = 10^3          # synthesis rate of Y (copies/hr)\n",
        "    deltaY = 1             # degradation rate (1/hr)\n",
        "    K = 1000              # MM constant for activation of Y by X\n",
        "    N = 10                    # Hill coefficient for activation of Y by X, switch like response (unitless)  \n",
        "    \"\"\")\n",
        "    # set parameters of stochastic simulation\n",
        "    r.integrator = 'gillespie'\n",
        "    r.integrator.variable_step_size = False  \n",
        "    r.TCycle = tc # define cell cycle time \n",
        "    ############################  \n",
        "    \n",
        "    r.S = float(S)     # this is the signal level \n",
        "    dt = 0.1     # time interval for plotting\n",
        "    result=[]\n",
        "    threshold = 500  # threshold concentration of Y required for activation\n",
        "    for i in range(0,nc,1):       # for loop over the total number of cell cycles\n",
        "        if i == 0:\n",
        "            SubResult =r.simulate(0,tc,int(tc/dt),['time','V','X','Y'])\n",
        "            for row in SubResult:\n",
        "                result.append(row)\n",
        "        else:\n",
        "            r.X = rand.binomial(r.X, 0.5)   # randomly partition\n",
        "            r.Y = rand.binomial(r.Y, 0.5)\n",
        "            SubResult =r.simulate(0,tc,int(tc/dt),['time','V','X','Y']) \n",
        "            \n",
        "            for row in SubResult:\n",
        "                row[0]=row[0]+(i*tc)     # update the time vector\n",
        "                result.append(row)\n",
        "                \n",
        "        result2 = ar(result)\n",
        "        yc = result2[:,3]/result2[:,1]    # concentration\n",
        "        yt = (yc>threshold)   # crossing the concentration threshold\n",
        "        tt = nonzero(yt)      # transition time\n",
        "        if (len(tt[0])>0):     # a transition occurred, \n",
        "            tt = tt[0][0]\n",
        "            act_time = result2[tt,0]   # find the transition time\n",
        "            #print('transition detected at {}'.format(act_time))\n",
        "            return act_time\n",
        "    #print('no transition detected')\n",
        "    act_time = -1\n",
        "    return act_time\n",
        "\n",
        "#Write csv file\n",
        "def writeCSV(filename,result):\n",
        "    with open(filename,'w') as mycvsfile:\n",
        "        thedatawriter=csv.writer(mycvsfile)   \n",
        "        thedatawriter.writerows(result)\n"
      ],
      "outputs": [],
      "execution_count": 66,
      "metadata": {
        "collapsed": false,
        "outputHidden": false,
        "inputHidden": false
      }
    },
    {
      "cell_type": "code",
      "source": [
        "datapoints = [800, 400, 200, 180, 160, 150, 145, 140, 135, 130, 125, 120]\n",
        "for i in datapoints:    # titrate in a log scale\n",
        "    S = i\n",
        "    print('parameter value S={}'.format(i))\n",
        "    act_times = []\n",
        "    for j in range(0,100,1):\n",
        "        act_time = doSimulation(10,int(25*200/S),S)\n",
        "        act_times.append(act_time)       # find the transition time\n",
        "        print('repeat {}, activation time ={}'.format(j,act_time))  \n",
        "    with open('ttimes_{}.csv'.format(i),'w') as mycvsfile:\n",
        "        thedatawriter=csv.writer(mycvsfile)   \n",
        "        thedatawriter.writerows(map(lambda x: [x], act_times))"
      ],
      "outputs": [
        {
          "output_type": "stream",
          "name": "stdout",
          "text": [
            "parameter value S=800\n"
          ]
        },
        {
          "output_type": "error",
          "ename": "TypeError",
          "evalue": "list indices must be integers or slices, not tuple",
          "traceback": [
            "\u001b[0;31m---------------------------------------------------------------------------\u001b[0m",
            "\u001b[0;31mTypeError\u001b[0m                                 Traceback (most recent call last)",
            "\u001b[0;32m<ipython-input-67-a7e0503b9098>\u001b[0m in \u001b[0;36m<module>\u001b[0;34m()\u001b[0m\n\u001b[1;32m      5\u001b[0m     \u001b[0mact_times\u001b[0m \u001b[0;34m=\u001b[0m \u001b[0;34m[\u001b[0m\u001b[0;34m]\u001b[0m\u001b[0;34m\u001b[0m\u001b[0m\n\u001b[1;32m      6\u001b[0m     \u001b[0;32mfor\u001b[0m \u001b[0mj\u001b[0m \u001b[0;32min\u001b[0m \u001b[0mrange\u001b[0m\u001b[0;34m(\u001b[0m\u001b[0;36m0\u001b[0m\u001b[0;34m,\u001b[0m\u001b[0;36m100\u001b[0m\u001b[0;34m,\u001b[0m\u001b[0;36m1\u001b[0m\u001b[0;34m)\u001b[0m\u001b[0;34m:\u001b[0m\u001b[0;34m\u001b[0m\u001b[0m\n\u001b[0;32m----> 7\u001b[0;31m         \u001b[0mact_time\u001b[0m \u001b[0;34m=\u001b[0m \u001b[0mdoSimulation\u001b[0m\u001b[0;34m(\u001b[0m\u001b[0;36m10\u001b[0m\u001b[0;34m,\u001b[0m\u001b[0mint\u001b[0m\u001b[0;34m(\u001b[0m\u001b[0;36m25\u001b[0m\u001b[0;34m*\u001b[0m\u001b[0;36m200\u001b[0m\u001b[0;34m/\u001b[0m\u001b[0mS\u001b[0m\u001b[0;34m)\u001b[0m\u001b[0;34m,\u001b[0m\u001b[0mS\u001b[0m\u001b[0;34m)\u001b[0m\u001b[0;34m\u001b[0m\u001b[0m\n\u001b[0m\u001b[1;32m      8\u001b[0m         \u001b[0mact_times\u001b[0m\u001b[0;34m.\u001b[0m\u001b[0mappend\u001b[0m\u001b[0;34m(\u001b[0m\u001b[0mact_time\u001b[0m\u001b[0;34m)\u001b[0m       \u001b[0;31m# find the transition time\u001b[0m\u001b[0;34m\u001b[0m\u001b[0m\n\u001b[1;32m      9\u001b[0m         \u001b[0mprint\u001b[0m\u001b[0;34m(\u001b[0m\u001b[0;34m'repeat {}, activation time ={}'\u001b[0m\u001b[0;34m.\u001b[0m\u001b[0mformat\u001b[0m\u001b[0;34m(\u001b[0m\u001b[0mj\u001b[0m\u001b[0;34m,\u001b[0m\u001b[0mact_time\u001b[0m\u001b[0;34m)\u001b[0m\u001b[0;34m)\u001b[0m\u001b[0;34m\u001b[0m\u001b[0m\n",
            "\u001b[0;32m<ipython-input-66-e4bf2888eeb7>\u001b[0m in \u001b[0;36mdoSimulation\u001b[0;34m(tc, nc, S)\u001b[0m\n\u001b[1;32m     88\u001b[0m         \u001b[0;32mif\u001b[0m \u001b[0;34m(\u001b[0m\u001b[0mlen\u001b[0m\u001b[0;34m(\u001b[0m\u001b[0mtt\u001b[0m\u001b[0;34m[\u001b[0m\u001b[0;36m0\u001b[0m\u001b[0;34m]\u001b[0m\u001b[0;34m)\u001b[0m\u001b[0;34m>\u001b[0m\u001b[0;36m0\u001b[0m\u001b[0;34m)\u001b[0m\u001b[0;34m:\u001b[0m     \u001b[0;31m# a transition occurred,\u001b[0m\u001b[0;34m\u001b[0m\u001b[0m\n\u001b[1;32m     89\u001b[0m             \u001b[0mtt\u001b[0m \u001b[0;34m=\u001b[0m \u001b[0mtt\u001b[0m\u001b[0;34m[\u001b[0m\u001b[0;36m0\u001b[0m\u001b[0;34m]\u001b[0m\u001b[0;34m[\u001b[0m\u001b[0;36m0\u001b[0m\u001b[0;34m]\u001b[0m\u001b[0;34m\u001b[0m\u001b[0m\n\u001b[0;32m---> 90\u001b[0;31m             \u001b[0mact_time\u001b[0m \u001b[0;34m=\u001b[0m \u001b[0mresult\u001b[0m\u001b[0;34m[\u001b[0m\u001b[0mtt\u001b[0m\u001b[0;34m,\u001b[0m\u001b[0;36m0\u001b[0m\u001b[0;34m]\u001b[0m   \u001b[0;31m# find the transition time\u001b[0m\u001b[0;34m\u001b[0m\u001b[0m\n\u001b[0m\u001b[1;32m     91\u001b[0m             \u001b[0;31m#print('transition detected at {}'.format(act_time))\u001b[0m\u001b[0;34m\u001b[0m\u001b[0;34m\u001b[0m\u001b[0m\n\u001b[1;32m     92\u001b[0m             \u001b[0;32mreturn\u001b[0m \u001b[0mact_time\u001b[0m\u001b[0;34m\u001b[0m\u001b[0m\n",
            "\u001b[0;31mTypeError\u001b[0m: list indices must be integers or slices, not tuple"
          ]
        }
      ],
      "execution_count": 67,
      "metadata": {
        "collapsed": false,
        "outputHidden": false,
        "inputHidden": false
      }
    },
    {
      "cell_type": "code",
      "source": [
        "float("
      ],
      "outputs": [
        {
          "output_type": "execute_result",
          "execution_count": 57,
          "data": {
            "text/plain": [
              "800.0"
            ]
          },
          "metadata": {}
        }
      ],
      "execution_count": 57,
      "metadata": {
        "collapsed": false,
        "outputHidden": false,
        "inputHidden": false
      }
    },
    {
      "cell_type": "code",
      "source": [],
      "outputs": [],
      "execution_count": null,
      "metadata": {
        "collapsed": false,
        "outputHidden": false,
        "inputHidden": false
      }
    }
  ],
  "metadata": {
    "kernelspec": {
      "name": "python3",
      "language": "python",
      "display_name": "Python 3 (built-in)"
    },
    "kernel_info": {
      "name": "python3"
    },
    "language_info": {
      "name": "python",
      "version": "3.6.3",
      "mimetype": "text/x-python",
      "codemirror_mode": {
        "name": "ipython",
        "version": 3
      },
      "pygments_lexer": "ipython3",
      "nbconvert_exporter": "python",
      "file_extension": ".py"
    }
  },
  "nbformat": 4,
  "nbformat_minor": 4
}