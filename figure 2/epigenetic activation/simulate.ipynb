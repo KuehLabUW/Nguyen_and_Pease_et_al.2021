{
 "cells": [
  {
   "cell_type": "code",
   "execution_count": null,
   "metadata": {
    "inputHidden": false,
    "outputHidden": false
   },
   "outputs": [],
   "source": [
    "#!/usr/bin/python\n",
    "# Modified 11/29/2019 by HYK\n",
    "# Incorporate binomial partitioning, DONE!\n",
    "# Cumulative addition of time over multiple rounds of simulation, DONE!\n",
    "\n",
    "# Generalized functions for simulating arbitrary reaction network topologies\n",
    "# Simulation cell number distributions as well, for multiple runs\n",
    "# Also, write a MATLAB script to rapidly generate plots from the simulated data\n",
    "\n",
    "\"\"\"\n",
    "Created on Tue Dec 13 20:08:54 2016\n",
    "@author: Sam Nguyen\n",
    "\"\"\"\n",
    "import roadrunner\n",
    "import numpy \n",
    "from numpy import random as rand\n",
    "import math\n",
    "from scipy import asarray as ar,exp\n",
    "from multiprocessing import Pool\n",
    "import csv\n",
    "import random\n",
    "import sys\n",
    "roadrunner.Config.setValue(roadrunner.Config.MAX_OUTPUT_ROWS,10000)\n",
    "\n",
    "# Tellurium loader\n",
    "def loada(sbstr):\n",
    "    import antimony as sb\n",
    "    r = sb.loadAntimonyString(sbstr)\n",
    "    if r < 0:\n",
    "        raise RuntimeError('Failed to load Antimony model: {}'.format(sb.getLastError()))\n",
    "    return roadrunner.RoadRunner(sb.getSBMLString(sb.getModuleNames()[-1]))\n",
    "\n",
    "# Tellurium simulation function\n",
    "def doSimulation(tc,nc):\n",
    "    r = loada(\"\"\"\n",
    "    # define cell cycling parameters\n",
    "    TCycle = 10                                    \n",
    "    V := (time/TCycle + 1)\n",
    "    \n",
    "    #define ode    \n",
    "    R1: => Px ; (k*V)*(S/V)*(1-Px)      # promoter activation (irreversible)\n",
    "    R2: => X ; (alphaX*V)*Px           # synthesis of X, rate increases with volume --> DNA replication\n",
    "    R3: X => ; X*deltaX                # degradation of X\n",
    "    \n",
    "    R4: => Y ; (alphaY*V)*(X/V)^N/((X/V)^N+K^N)\n",
    "    R5: Y => ; Y*deltaY\n",
    "   \n",
    "   #define initial values\n",
    "    S = 200            # the concentration of signal * (normalized units) \n",
    "    k = 10^(-4)        # The X promoter activation rate constant (1/hr)\n",
    "    Px = 0             # initial promoter state of X in the state (inactive)  \n",
    "    X = 0              # the number of copies of X\n",
    "    Y = 0              # the number of copies of Y\n",
    " \n",
    "    alphaX = 10^3          # synthesis rate of X (copies/hr)\n",
    "    deltaX = 1             # degradation rate (1/hr)\n",
    "    alphaY = 10^3          # synthesis rate of Y (copies/hr)\n",
    "    deltaY = 1             # degradation rate (1/hr)\n",
    "    K = 200              # MM constant for activation of Y by X, (copies/cell)\n",
    "    N = 10                    # Hill coefficient for activation of Y by X, switch like response (unitless)  \n",
    "    \"\"\")\n",
    "    # set parameters of stochastic simulation\n",
    "    r.integrator = 'gillespie'\n",
    "    r.integrator.variable_step_size = False  \n",
    "    r.TCycle = tc # define cell cycle time \n",
    "    \n",
    "    # redefine parameters here, if necessary\n",
    "    #r.K = K\n",
    "    ############################\n",
    "    dt = 0.1;     # time interval for plotting\n",
    "    result=[]\n",
    "    for i in range(0,nc,1):       # for loop over the total number of cell cycles\n",
    "        if i == 0:\n",
    "            SubResult =r.simulate(0,tc,int(tc/dt),['time','V','Px','X','Y']) \n",
    "            for row in SubResult:\n",
    "                result.append(row)\n",
    "        else:\n",
    "            r.X = rand.binomial(r.X, 0.5)   # randomly partition species due to cell division\n",
    "            r.Y = rand.binomial(r.Y, 0.5)\n",
    "            SubResult =r.simulate(0,tc,int(tc/dt),['time','V','Px','X','Y'])             \n",
    "            for row in SubResult:\n",
    "                row[0]=row[0]+(i*tc)     # update the time vector\n",
    "                result.append(row)\n",
    "    result = ar(result)\n",
    "    return result\n",
    "\n",
    "#Write csv file\n",
    "def writeCSV(filename,result):\n",
    "    with open(filename,'w') as mycvsfile:\n",
    "        thedatawriter=csv.writer(mycvsfile)   \n",
    "        thedatawriter.writerows(result)\n"
   ]
  },
  {
   "cell_type": "code",
   "execution_count": null,
   "metadata": {
    "inputHidden": false,
    "outputHidden": false
   },
   "outputs": [],
   "source": [
    "for i in range(500,2500,1):\n",
    "    result = doSimulation(10,25)\n",
    "    writeCSV('data/data_{}.csv'.format(i),result)"
   ]
  },
  {
   "cell_type": "code",
   "execution_count": null,
   "metadata": {
    "inputHidden": false,
    "outputHidden": false
   },
   "outputs": [],
   "source": []
  },
  {
   "cell_type": "code",
   "execution_count": null,
   "metadata": {},
   "outputs": [],
   "source": []
  }
 ],
 "metadata": {
  "kernel_info": {
   "name": "python3"
  },
  "kernelspec": {
   "display_name": "Python 3",
   "language": "python",
   "name": "python3"
  },
  "language_info": {
   "codemirror_mode": {
    "name": "ipython",
    "version": 3
   },
   "file_extension": ".py",
   "mimetype": "text/x-python",
   "name": "python",
   "nbconvert_exporter": "python",
   "pygments_lexer": "ipython3",
   "version": "3.7.4"
  }
 },
 "nbformat": 4,
 "nbformat_minor": 4
}
